{
 "cells": [
  {
   "cell_type": "code",
   "execution_count": 5,
   "metadata": {},
   "outputs": [
    {
     "ename": "ERROR",
     "evalue": "Error in shinyAppDir(x): No Shiny application exists at the path \"Shiny01\"\n",
     "output_type": "error",
     "traceback": [
      "Error in shinyAppDir(x): No Shiny application exists at the path \"Shiny01\"\nTraceback:\n",
      "1. runApp(\"Shiny01\")",
      "2. as.shiny.appobj(appDir)",
      "3. as.shiny.appobj.character(appDir)",
      "4. shinyAppDir(x)",
      "5. stop(\"No Shiny application exists at the path \\\"\", appDir, \"\\\"\")"
     ]
    }
   ],
   "source": [
    "library(shiny)\n",
    "runApp(\"shiny\")"
   ]
  }
 ],
 "metadata": {
  "kernelspec": {
   "display_name": "R",
   "language": "R",
   "name": "ir"
  },
  "language_info": {
   "codemirror_mode": "r",
   "file_extension": ".r",
   "mimetype": "text/x-r-source",
   "name": "R",
   "pygments_lexer": "r",
   "version": "3.6.2"
  }
 },
 "nbformat": 4,
 "nbformat_minor": 4
}
