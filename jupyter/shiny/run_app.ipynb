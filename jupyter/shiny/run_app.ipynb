{
 "cells": [
  {
   "cell_type": "code",
   "execution_count": 5,
   "metadata": {
    "scrolled": false
   },
   "outputs": [
    {
     "ename": "ERROR",
     "evalue": "Error in `.rowNamesDF<-`(x, value = value): invalid 'row.names' length\n",
     "output_type": "error",
     "traceback": [
      "Error in `.rowNamesDF<-`(x, value = value): invalid 'row.names' length\nTraceback:\n",
      "1. `rownames<-`(`*tmp*`, value = structure(list(journal_name = structure(c(14L, \n . 28L, 7L, 4L, 5L, 27L, 21L, 17L, 29L, 24L, 12L, 2L, 30L, 20L, \n . 3L, 18L, 15L, 31L, 6L, 11L, 33L, 32L, 1L, 22L, 25L, 26L, 23L, \n . 10L, 19L, 16L, 8L, 9L, 13L), .Label = c(\"\", \"Academy of Management Journal\", \n . \"Academy of Management Review\", \"Administrative Science Quarterly\", \n . \"American Economic Review\", \"Econometrica\", \"Economic Journal\", \n . \"European Economic Review\", \"Games & Economic Behavior\", \"Information Systems Research\", \n . \"Journal of Accounting & Economics\", \"Journal of Accounting Research\", \n . \"Journal of Business Research\", \"Journal of Consumer Research\", \n . \"Journal of Econometrics\", \"Journal of Economic Theory\", \"Journal of Finance\", \n . \"Journal of Financial Economics\", \"Journal of Health Economics\", \n . \"Journal of Labor Economics\", \"Journal of Marketing\", \"Journal of Marketing Research (JMR)\", \n . \"Journal of Monetary Economics\", \"Journal of Political Economy\", \n . \"Journal of the American Statistical Association\", \"Journal of the European Economic Association\", \n . \"Management Science\", \"Quarterly Journal of Economics\", \"Review of Economic Studies\", \n . \"Strategic Management Journal\", \"The Academy of Management Annals\", \n . \"The Quarterly Journal of Economics\", \"The Review of Economic Studies\"\n . ), class = \"factor\")), row.names = c(NA, -33L), class = c(\"data.table\", \n . \"data.frame\"), .internal.selfref = <pointer: 0x55ed1d84bbf0>))",
      "2. `row.names<-`(`*tmp*`, value = value)",
      "3. `row.names<-.data.frame`(`*tmp*`, value = value)",
      "4. `.rowNamesDF<-`(x, value = value)",
      "5. stop(\"invalid 'row.names' length\")"
     ]
    }
   ],
   "source": [
    "#runApp('.')\n",
    "library(data.table)\n",
    "library(shiny)\n",
    "\n",
    "USPersonalExpenditure <- data.frame(\"Categorie\"=rownames(USPersonalExpenditure), USPersonalExpenditure)\n",
    "USPersonalExpenditure <- USPersonalExpenditure[, c('Categorie', 'X1960')]\n",
    "\n",
    "df <- read.csv('data/cleaned_altmetrics.csv', header=TRUE, sep=';')\n",
    "summary <- setDT(df)[, c(lapply(.SD[, c(10:27), with=FALSE], sum)), by = journal_name]\n",
    "\n",
    "temp <- summary[, -1]\n",
    "rownames(temp) <- summary[,1]\n",
    "temp"
   ]
  },
  {
   "cell_type": "code",
   "execution_count": 29,
   "metadata": {
    "scrolled": false
   },
   "outputs": [
    {
     "data": {
      "text/plain": [
       "      \n",
       "        4  6  8\n",
       "  [1,] 11  7 14"
      ]
     },
     "metadata": {},
     "output_type": "display_data"
    },
    {
     "data": {
      "text/html": [
       "<table>\n",
       "<caption>A data.frame: 3 × 2</caption>\n",
       "<thead>\n",
       "\t<tr><th></th><th scope=col>val</th><th scope=col>label</th></tr>\n",
       "\t<tr><th></th><th scope=col>&lt;int&gt;</th><th scope=col>&lt;fct&gt;</th></tr>\n",
       "</thead>\n",
       "<tbody>\n",
       "\t<tr><th scope=row>4</th><td>11</td><td>Control</td></tr>\n",
       "\t<tr><th scope=row>6</th><td> 7</td><td>Treat1 </td></tr>\n",
       "\t<tr><th scope=row>8</th><td>14</td><td>Treat2 </td></tr>\n",
       "</tbody>\n",
       "</table>\n"
      ],
      "text/latex": [
       "A data.frame: 3 × 2\n",
       "\\begin{tabular}{r|ll}\n",
       "  & val & label\\\\\n",
       "  & <int> & <fct>\\\\\n",
       "\\hline\n",
       "\t4 & 11 & Control\\\\\n",
       "\t6 &  7 & Treat1 \\\\\n",
       "\t8 & 14 & Treat2 \\\\\n",
       "\\end{tabular}\n"
      ],
      "text/markdown": [
       "\n",
       "A data.frame: 3 × 2\n",
       "\n",
       "| <!--/--> | val &lt;int&gt; | label &lt;fct&gt; |\n",
       "|---|---|---|\n",
       "| 4 | 11 | Control |\n",
       "| 6 |  7 | Treat1  |\n",
       "| 8 | 14 | Treat2  |\n",
       "\n"
      ],
      "text/plain": [
       "  val label  \n",
       "4 11  Control\n",
       "6  7  Treat1 \n",
       "8 14  Treat2 "
      ]
     },
     "metadata": {},
     "output_type": "display_data"
    },
    {
     "data": {
      "text/html": [
       "<table>\n",
       "<caption>A data.frame: 3 × 3</caption>\n",
       "<thead>\n",
       "\t<tr><th></th><th scope=col>val</th><th scope=col>label</th><th scope=col>cyl</th></tr>\n",
       "\t<tr><th></th><th scope=col>&lt;int&gt;</th><th scope=col>&lt;fct&gt;</th><th scope=col>&lt;chr&gt;</th></tr>\n",
       "</thead>\n",
       "<tbody>\n",
       "\t<tr><th scope=row>4</th><td>11</td><td>Control</td><td>Control  </td></tr>\n",
       "\t<tr><th scope=row>6</th><td> 7</td><td>Treat1 </td><td>Treatment</td></tr>\n",
       "\t<tr><th scope=row>8</th><td>14</td><td>Treat2 </td><td>Treatment</td></tr>\n",
       "</tbody>\n",
       "</table>\n"
      ],
      "text/latex": [
       "A data.frame: 3 × 3\n",
       "\\begin{tabular}{r|lll}\n",
       "  & val & label & cyl\\\\\n",
       "  & <int> & <fct> & <chr>\\\\\n",
       "\\hline\n",
       "\t4 & 11 & Control & Control  \\\\\n",
       "\t6 &  7 & Treat1  & Treatment\\\\\n",
       "\t8 & 14 & Treat2  & Treatment\\\\\n",
       "\\end{tabular}\n"
      ],
      "text/markdown": [
       "\n",
       "A data.frame: 3 × 3\n",
       "\n",
       "| <!--/--> | val &lt;int&gt; | label &lt;fct&gt; | cyl &lt;chr&gt; |\n",
       "|---|---|---|---|\n",
       "| 4 | 11 | Control | Control   |\n",
       "| 6 |  7 | Treat1  | Treatment |\n",
       "| 8 | 14 | Treat2  | Treatment |\n",
       "\n"
      ],
      "text/plain": [
       "  val label   cyl      \n",
       "4 11  Control Control  \n",
       "6  7  Treat1  Treatment\n",
       "8 14  Treat2  Treatment"
      ]
     },
     "metadata": {},
     "output_type": "display_data"
    }
   ],
   "source": [
    "df <- data.frame(cyl = mtcars[, 2])\n",
    "(df2 <- t(table(df$cyl)))\n",
    "df2 <- data.frame(val=df2[1,], label=c(\"Control\", \"Treat1\", \"Treat2\"))\n",
    "df2\n",
    "df2$cyl <- c(\"Control\", \"Treatment\", \"Treatment\")\n",
    "df2"
   ]
  }
 ],
 "metadata": {
  "kernelspec": {
   "display_name": "R",
   "language": "R",
   "name": "ir"
  },
  "language_info": {
   "codemirror_mode": "r",
   "file_extension": ".r",
   "mimetype": "text/x-r-source",
   "name": "R",
   "pygments_lexer": "r",
   "version": "3.6.2"
  }
 },
 "nbformat": 4,
 "nbformat_minor": 2
}
